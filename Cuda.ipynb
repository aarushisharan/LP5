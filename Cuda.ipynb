{
  "nbformat": 4,
  "nbformat_minor": 0,
  "metadata": {
    "colab": {
      "provenance": [],
      "authorship_tag": "ABX9TyP4Qdf2aJUriYaJm0ztfT74",
      "include_colab_link": true
    },
    "kernelspec": {
      "name": "python3",
      "display_name": "Python 3"
    },
    "language_info": {
      "name": "python"
    }
  },
  "cells": [
    {
      "cell_type": "markdown",
      "metadata": {
        "id": "view-in-github",
        "colab_type": "text"
      },
      "source": [
        "<a href=\"https://colab.research.google.com/github/aarushisharan/LP5/blob/main/Cuda.ipynb\" target=\"_parent\"><img src=\"https://colab.research.google.com/assets/colab-badge.svg\" alt=\"Open In Colab\"/></a>"
      ]
    },
    {
      "cell_type": "code",
      "execution_count": 8,
      "metadata": {
        "colab": {
          "base_uri": "https://localhost:8080/"
        },
        "id": "r1vKplqqvD8p",
        "outputId": "d8ec7f31-4da5-423d-c15b-0c8a8ee3343f"
      },
      "outputs": [
        {
          "output_type": "stream",
          "name": "stdout",
          "text": [
            "Collecting git+https://github.com/afnan47/cuda.git\n",
            "  Cloning https://github.com/afnan47/cuda.git to /tmp/pip-req-build-gg0a9ic9\n",
            "  Running command git clone --filter=blob:none --quiet https://github.com/afnan47/cuda.git /tmp/pip-req-build-gg0a9ic9\n",
            "  Resolved https://github.com/afnan47/cuda.git to commit aac710a35f52bb78ab34d2e52517237941399eff\n",
            "  Preparing metadata (setup.py) ... \u001b[?25l\u001b[?25hdone\n",
            "Building wheels for collected packages: NVCCPlugin\n",
            "  Building wheel for NVCCPlugin (setup.py) ... \u001b[?25l\u001b[?25hdone\n",
            "  Created wheel for NVCCPlugin: filename=NVCCPlugin-0.0.2-py3-none-any.whl size=4290 sha256=38a6f42928f944184fc6335587030d45cbd1994b9246414093b0582c79e33c79\n",
            "  Stored in directory: /tmp/pip-ephem-wheel-cache-_8gobwgk/wheels/bc/4e/e0/2d86bd15f671dbeb32144013f1159dba09757fde36dc51a963\n",
            "Successfully built NVCCPlugin\n",
            "Installing collected packages: NVCCPlugin\n",
            "Successfully installed NVCCPlugin-0.0.2\n"
          ]
        }
      ],
      "source": [
        "\n",
        "!pip install git+https://github.com/afnan47/cuda.git"
      ]
    },
    {
      "cell_type": "code",
      "source": [
        "%load_ext nvcc_plugin\n"
      ],
      "metadata": {
        "colab": {
          "base_uri": "https://localhost:8080/"
        },
        "id": "SXcM2nAlvRmH",
        "outputId": "4be8fc23-be08-4f56-c4f2-b1d2345c8e9b"
      },
      "execution_count": 9,
      "outputs": [
        {
          "output_type": "stream",
          "name": "stdout",
          "text": [
            "created output directory at /content/src\n",
            "Out bin /content/result.out\n"
          ]
        }
      ]
    },
    {
      "cell_type": "code",
      "source": [
        "\n",
        "!nvcc --version"
      ],
      "metadata": {
        "colab": {
          "base_uri": "https://localhost:8080/"
        },
        "id": "rROKB4BsxtyX",
        "outputId": "455b00d6-3a4d-45bc-8ba3-6bda1c00cdef"
      },
      "execution_count": 10,
      "outputs": [
        {
          "output_type": "stream",
          "name": "stdout",
          "text": [
            "nvcc: NVIDIA (R) Cuda compiler driver\n",
            "Copyright (c) 2005-2024 NVIDIA Corporation\n",
            "Built on Thu_Jun__6_02:18:23_PDT_2024\n",
            "Cuda compilation tools, release 12.5, V12.5.82\n",
            "Build cuda_12.5.r12.5/compiler.34385749_0\n"
          ]
        }
      ]
    },
    {
      "cell_type": "code",
      "source": [
        "\n",
        "!nvidia-smi"
      ],
      "metadata": {
        "id": "34YnmOiDyLco",
        "colab": {
          "base_uri": "https://localhost:8080/"
        },
        "outputId": "61a5209a-60ca-49d5-9ce3-227bffcf1f4c"
      },
      "execution_count": 11,
      "outputs": [
        {
          "output_type": "stream",
          "name": "stdout",
          "text": [
            "Sun May  4 11:21:35 2025       \n",
            "+-----------------------------------------------------------------------------------------+\n",
            "| NVIDIA-SMI 550.54.15              Driver Version: 550.54.15      CUDA Version: 12.4     |\n",
            "|-----------------------------------------+------------------------+----------------------+\n",
            "| GPU  Name                 Persistence-M | Bus-Id          Disp.A | Volatile Uncorr. ECC |\n",
            "| Fan  Temp   Perf          Pwr:Usage/Cap |           Memory-Usage | GPU-Util  Compute M. |\n",
            "|                                         |                        |               MIG M. |\n",
            "|=========================================+========================+======================|\n",
            "|   0  Tesla T4                       Off |   00000000:00:04.0 Off |                    0 |\n",
            "| N/A   45C    P8             12W /   70W |       0MiB /  15360MiB |      0%      Default |\n",
            "|                                         |                        |                  N/A |\n",
            "+-----------------------------------------+------------------------+----------------------+\n",
            "                                                                                         \n",
            "+-----------------------------------------------------------------------------------------+\n",
            "| Processes:                                                                              |\n",
            "|  GPU   GI   CI        PID   Type   Process name                              GPU Memory |\n",
            "|        ID   ID                                                               Usage      |\n",
            "|=========================================================================================|\n",
            "|  No running processes found                                                             |\n",
            "+-----------------------------------------------------------------------------------------+\n"
          ]
        }
      ]
    },
    {
      "cell_type": "code",
      "source": [
        "%%writefile matrix.cu\n",
        "#include<iostream>\n",
        "#include<chrono>\n",
        "#include<bits/stdc++.h>\n",
        "\n",
        "using namespace std;\n",
        "using namespace std::chrono;\n",
        "\n",
        "__global__ void multiply(int*A, int *B, int *C, int M, int N, int K)\n",
        "{\n",
        "    int row= blockIdx.y* blockDim.y + threadIdx.y;\n",
        "    int col= blockIdx.x* blockDim.x +threadIdx.x;\n",
        "\n",
        "    if(row<M && col<K)\n",
        "    {\n",
        "        int sum=0;\n",
        "        for(int i=0;i<N;i++)\n",
        "        {\n",
        "            sum+=A[row*N+i]*B[i*K+col];\n",
        "        }\n",
        "        C[row*K+col]=sum;\n",
        "    }\n",
        "}\n",
        "\n",
        "void initialize(int *matrix, int rows, int cols)\n",
        "{\n",
        "    for(int i=0;i<rows*cols;i++)\n",
        "    {\n",
        "        cout<<\"Enter the element = \"<<i+1<<\": \";\n",
        "        cin>>matrix[i];\n",
        "    }\n",
        "}\n",
        "\n",
        "void print(int *matrix, int rows, int cols)\n",
        "{\n",
        "    for(int i=0;i<rows;i++)\n",
        "    {\n",
        "        for(int j=0;j<cols;j++)\n",
        "        {\n",
        "            cout<<matrix[i*cols+j]<<\" \";\n",
        "        }\n",
        "        cout<<endl;\n",
        "    }\n",
        "}\n",
        "\n",
        "void sequentialMultiply(int* A, int* B, int* C, int M, int N, int K) {\n",
        "    for (int i = 0; i < M; i++) {\n",
        "        for (int j = 0; j < K; j++) {\n",
        "            int sum = 0;\n",
        "           for(int k=0;k<N;k++)\n",
        "           {\n",
        "            sum+= A[i*N+k] * B[k*K+j];\n",
        "           }\n",
        "           C[i*K+j]=sum;\n",
        "        }\n",
        "    }\n",
        "}\n",
        "\n",
        "int main()\n",
        "{\n",
        "    int M, N, K;\n",
        "    cout << \"Enter the number of rows and columns of the first matrix: \";\n",
        "    cin >> M >> N;\n",
        "    cout << \"Enter the number of columns of the second matrix: \";\n",
        "    cin >> K;\n",
        "\n",
        "    int* A, * B, * C;\n",
        "\n",
        "    int matrixSize=M*K;\n",
        "    size_t matrixBytes= matrixSize*sizeof(int);\n",
        "\n",
        "    A= new int[M*N];\n",
        "    B= new int[N*K];\n",
        "    C= new int[M*K];\n",
        "\n",
        "    initialize(A, M, N);\n",
        "    initialize(B, N, K);\n",
        "\n",
        "    cout << \"Matrix A: \\n\";\n",
        "    print(A, M, N);\n",
        "\n",
        "    cout << \"Matrix B: \\n\";\n",
        "    print(B, N, K);\n",
        "\n",
        "    int* X, * Y, * Z;\n",
        "    cudaMalloc(&X, M * N * sizeof(int));\n",
        "    cudaMalloc(&Y, N * K * sizeof(int));\n",
        "    cudaMalloc(&Z, M * K * sizeof(int));\n",
        "\n",
        "    cudaMemcpy(X,A,M*N*sizeof(int),cudaMemcpyHostToDevice);\n",
        "    cudaMemcpy(Y,B,N*K*sizeof(int),cudaMemcpyHostToDevice);\n",
        "\n",
        "    int THREADS=16;\n",
        "    int BLOCKS= (M+THREADS-1)/THREADS;\n",
        "\n",
        "    dim3 threads(THREADS, THREADS); // 16 x 16 = 256 threads per block\n",
        "    dim3 blocks(BLOCKS, BLOCKS);    // 4 x 4 = 16 blocks total\n",
        "\n",
        "    auto start = high_resolution_clock::now();\n",
        "    sequentialMultiply(A, B, C, M, N, K);\n",
        "    auto stop = high_resolution_clock::now();\n",
        "    auto seq_duration = duration_cast<microseconds>(stop - start);\n",
        "\n",
        "    cout << \"Sequential Multiplication of matrix A and B: \\n\";\n",
        "    print(C, M, K);\n",
        "\n",
        "    // Parallel multiplication\n",
        "    start = high_resolution_clock::now();\n",
        "    multiply<<<blocks, threads>>>(X, Y, Z, M, N, K);\n",
        "    cudaMemcpy(C, Z, M * K * sizeof(int), cudaMemcpyDeviceToHost);\n",
        "    stop = high_resolution_clock::now();\n",
        "    auto par_duration = duration_cast<microseconds>(stop - start);\n",
        "\n",
        "    cout << \"Parallel Multiplication of matrix A and B: \\n\";\n",
        "    print(C, M, K);\n",
        "\n",
        "    cout << \"Sequential Multiplication Time: \" << seq_duration.count() << \" microseconds\" << endl;\n",
        "    cout << \"Parallel Multiplication Time: \" << par_duration.count() << \" microseconds\" << endl;\n",
        "\n",
        "    delete[] A;\n",
        "    delete[] B;\n",
        "    delete[] C;\n",
        "\n",
        "    cudaFree(X);\n",
        "    cudaFree(Y);\n",
        "    cudaFree(Z);\n",
        "\n",
        "    return 0;\n",
        "\n",
        "\n",
        "\n",
        "}"
      ],
      "metadata": {
        "colab": {
          "base_uri": "https://localhost:8080/"
        },
        "id": "LRlAdvj6yOn5",
        "outputId": "fc358ce2-f901-4083-c4d1-361204247e5e"
      },
      "execution_count": 7,
      "outputs": [
        {
          "output_type": "stream",
          "name": "stdout",
          "text": [
            "Overwriting matrix.cu\n"
          ]
        }
      ]
    },
    {
      "cell_type": "code",
      "source": [
        "!nvcc -arch=sm_75 matrix.cu -o mat"
      ],
      "metadata": {
        "colab": {
          "base_uri": "https://localhost:8080/"
        },
        "id": "AMM2n-hlyhFq",
        "outputId": "654c5ecc-72a9-4cf6-cf6a-0e5bc4c0c89a"
      },
      "execution_count": 8,
      "outputs": [
        {
          "output_type": "stream",
          "name": "stdout",
          "text": [
            "\u001b[01m\u001b[0m\u001b[01mmatrix.cu(69)\u001b[0m: \u001b[01;35mwarning\u001b[0m #177-D: variable \u001b[01m\"matrixBytes\"\u001b[0m was declared but never referenced\n",
            "      size_t matrixBytes= matrixSize*sizeof(int);\n",
            "             ^\n",
            "\n",
            "\u001b[01;36m\u001b[0m\u001b[01;36mRemark\u001b[0m: The warnings can be suppressed with \"-diag-suppress <warning-number>\"\n",
            "\n"
          ]
        }
      ]
    },
    {
      "cell_type": "code",
      "source": [
        "!./mat"
      ],
      "metadata": {
        "id": "gawkorc9ylGm",
        "colab": {
          "base_uri": "https://localhost:8080/"
        },
        "outputId": "87479586-d6da-440e-f36f-e898fe3a41eb"
      },
      "execution_count": 9,
      "outputs": [
        {
          "output_type": "stream",
          "name": "stdout",
          "text": [
            "Enter the number of rows and columns of the first matrix: 2 2\n",
            "Enter the number of columns of the second matrix: 2\n",
            "Enter the element = 1: 2\n",
            "Enter the element = 2: 2\n",
            "Enter the element = 3: 4\n",
            "Enter the element = 4: 5\n",
            "Enter the element = 1: 4\n",
            "Enter the element = 2: 5\n",
            "Enter the element = 3: 6\n",
            "Enter the element = 4: 7\n",
            "Matrix A: \n",
            "2 2 \n",
            "4 5 \n",
            "Matrix B: \n",
            "4 5 \n",
            "6 7 \n",
            "Sequential Multiplication of matrix A and B: \n",
            "20 24 \n",
            "46 55 \n",
            "Parallel Multiplication of matrix A and B: \n",
            "20 24 \n",
            "46 55 \n",
            "Sequential Multiplication Time: 0 microseconds\n",
            "Parallel Multiplication Time: 162 microseconds\n"
          ]
        }
      ]
    },
    {
      "cell_type": "code",
      "source": [],
      "metadata": {
        "id": "eEtcdiLHtgIj"
      },
      "execution_count": null,
      "outputs": []
    }
  ]
}